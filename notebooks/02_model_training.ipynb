{
 "cells": [
  {
   "cell_type": "code",
   "execution_count": null,
   "id": "7b4ddb83-423e-430f-95a1-31b7b0462079",
   "metadata": {},
   "outputs": [],
   "source": [
    "# Cell 1: Import libraries\n",
    "from datasets import load_dataset\n",
    "import pandas as pd\n",
    "import numpy as np\n",
    "from sklearn.model_selection import train_test_split\n",
    "from sklearn.feature_extraction.text import TfidfVectorizer\n",
    "from sklearn.linear_model import LogisticRegression\n",
    "from sklearn.naive_bayes import MultinomialNB\n",
    "from sklearn.metrics import accuracy_score, precision_score, recall_score, f1_score, classification_report, confusion_matrix\n",
    "import seaborn as sns\n",
    "import matplotlib.pyplot as plt\n",
    "import pickle\n",
    "import time\n",
    "\n",
    "print(\"✅ Libraries imported successfully\")"
   ]
  },
  {
   "cell_type": "code",
   "execution_count": null,
   "id": "817c8639-a590-455b-9fa1-868954397019",
   "metadata": {},
   "outputs": [],
   "source": [
    "# Cell 2: Load IMDb dataset\n",
    "print(\"Loading IMDb dataset...\")\n",
    "dataset = load_dataset(\"imdb\")\n",
    "\n",
    "# Use smaller subset for faster training (remove this for full dataset)\n",
    "train_data = dataset['train'].shuffle(seed=42).select(range(5000))\n",
    "test_data = dataset['test'].shuffle(seed=42).select(range(1000))\n",
    "\n",
    "print(f\"Training samples: {len(train_data)}\")\n",
    "print(f\"Test samples: {len(test_data)}\")"
   ]
  },
  {
   "cell_type": "code",
   "execution_count": null,
   "id": "36129891-fa9e-49c1-bf5a-b78081e387df",
   "metadata": {},
   "outputs": [],
   "source": [
    "# Cell 3: Convert to pandas DataFrames\n",
    "train_df = pd.DataFrame(train_data)\n",
    "test_df = pd.DataFrame(test_data)\n",
    "\n",
    "# Display sample\n",
    "print(\"\\nSample reviews:\")\n",
    "print(train_df.head(2))"
   ]
  },
  {
   "cell_type": "code",
   "execution_count": null,
   "id": "ed47660a-c056-45aa-ac78-7d986fc8b525",
   "metadata": {},
   "outputs": [],
   "source": [
    "# Cell 4: Text preprocessing function\n",
    "import re\n",
    "from html import unescape\n",
    "\n",
    "def preprocess_text(text):\n",
    "    \"\"\"Clean and preprocess text reviews\"\"\"\n",
    "    # Remove HTML entities\n",
    "    text = unescape(text)\n",
    "    # Remove HTML tags\n",
    "    text = re.sub(r'<.*?>', '', text)\n",
    "    # Remove URLs\n",
    "    text = re.sub(r'http\\S+|www\\S+', '', text)\n",
    "    # Convert to lowercase\n",
    "    text = text.lower()\n",
    "    # Remove extra whitespace\n",
    "    text = ' '.join(text.split())\n",
    "    return text\n",
    "\n",
    "# Apply preprocessing\n",
    "print(\"\\nPreprocessing text...\")\n",
    "train_df['clean_text'] = train_df['text'].apply(preprocess_text)\n",
    "test_df['clean_text'] = test_df['text'].apply(preprocess_text)\n",
    "\n",
    "print(\"✅ Preprocessing complete\")\n",
    "print(\"\\nBefore preprocessing:\")\n",
    "print(train_df['text'].iloc[0][:200])\n",
    "print(\"\\nAfter preprocessing:\")\n",
    "print(train_df['clean_text'].iloc[0][:200])"
   ]
  },
  {
   "cell_type": "code",
   "execution_count": null,
   "id": "bab119f0-040e-4510-85d9-0cb67a89fbd1",
   "metadata": {},
   "outputs": [],
   "source": [
    "# Cell 5: Prepare features and labels\n",
    "X_train = train_df['clean_text']\n",
    "y_train = train_df['label']\n",
    "X_test = test_df['clean_text']\n",
    "y_test = test_df['label']\n",
    "\n",
    "print(f\"\\n✅ Data split complete\")\n",
    "print(f\"Training set: {len(X_train)} samples\")\n",
    "print(f\"Test set: {len(X_test)} samples\")"
   ]
  }
 ],
 "metadata": {
  "kernelspec": {
   "display_name": "Python 3 (ipykernel)",
   "language": "python",
   "name": "python3"
  },
  "language_info": {
   "codemirror_mode": {
    "name": "ipython",
    "version": 3
   },
   "file_extension": ".py",
   "mimetype": "text/x-python",
   "name": "python",
   "nbconvert_exporter": "python",
   "pygments_lexer": "ipython3",
   "version": "3.13.2"
  }
 },
 "nbformat": 4,
 "nbformat_minor": 5
}
