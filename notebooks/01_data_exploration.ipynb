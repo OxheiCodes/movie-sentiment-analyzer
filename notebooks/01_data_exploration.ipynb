{
 "cells": [
  {
   "cell_type": "code",
   "execution_count": null,
   "id": "944bd649-2f65-494d-9dc8-e8e39ed9f71a",
   "metadata": {},
   "outputs": [
    {
     "ename": "ModuleNotFoundError",
     "evalue": "No module named 'data'",
     "output_type": "error",
     "traceback": [
      "\u001b[31m---------------------------------------------------------------------------\u001b[39m",
      "\u001b[31mModuleNotFoundError\u001b[39m                       Traceback (most recent call last)",
      "\u001b[36mCell\u001b[39m\u001b[36m \u001b[39m\u001b[32mIn[4]\u001b[39m\u001b[32m, line 2\u001b[39m\n\u001b[32m      1\u001b[39m \u001b[38;5;66;03m# Cell 1: Import libraries\u001b[39;00m\n\u001b[32m----> \u001b[39m\u001b[32m2\u001b[39m \u001b[38;5;28;01mfrom\u001b[39;00m\u001b[38;5;250m \u001b[39m\u001b[34;01mdata\u001b[39;00m\u001b[38;5;250m \u001b[39m\u001b[38;5;28;01mimport\u001b[39;00m IMDB\n\u001b[32m      3\u001b[39m \u001b[38;5;28;01mimport\u001b[39;00m\u001b[38;5;250m \u001b[39m\u001b[34;01mpandas\u001b[39;00m\u001b[38;5;250m \u001b[39m\u001b[38;5;28;01mas\u001b[39;00m\u001b[38;5;250m \u001b[39m\u001b[34;01mpd\u001b[39;00m\n\u001b[32m      4\u001b[39m \u001b[38;5;28;01mimport\u001b[39;00m\u001b[38;5;250m \u001b[39m\u001b[34;01mmatplotlib\u001b[39;00m\u001b[34;01m.\u001b[39;00m\u001b[34;01mpyplot\u001b[39;00m\u001b[38;5;250m \u001b[39m\u001b[38;5;28;01mas\u001b[39;00m\u001b[38;5;250m \u001b[39m\u001b[34;01mplt\u001b[39;00m\n",
      "\u001b[31mModuleNotFoundError\u001b[39m: No module named 'data'"
     ]
    }
   ],
   "source": [
    "# Cell 1: Import libraries\n",
    "from datasets import load_dataset\n",
    "import pandas as pd\n",
    "import matplotlib.pyplot as plt"
   ]
  },
  {
   "cell_type": "code",
   "execution_count": null,
   "id": "c1d2aae7-092f-4daf-95cc-0e609593f251",
   "metadata": {},
   "outputs": [],
   "source": [
    "# Cell 2: Load IMDb dataset\n",
    "print(\"Loading IMDb dataset from HuggingFace...\")\n",
    "dataset = load_dataset(\"imdb\")"
   ]
  },
  {
   "cell_type": "code",
   "execution_count": null,
   "id": "fc73f5fd-3f8a-4492-b297-8d6bb69b9c01",
   "metadata": {},
   "outputs": [],
   "source": [
    "# Cell 3: Explore the data\n",
    "print(f\"Train samples: {len(dataset['train'])}\")\n",
    "print(f\"Test samples: {len(dataset['test'])}\")\n",
    "print(\"\\nSample review:\")\n",
    "print(dataset['train'][0])"
   ]
  },
  {
   "cell_type": "code",
   "execution_count": null,
   "id": "61dfbb9b-f1c3-4fa1-a1ba-2ce7701f4046",
   "metadata": {},
   "outputs": [],
   "source": [
    "# Cell 4: Convert to pandas for easy exploration\n",
    "train_df = pd.DataFrame(dataset['train'])\n",
    "print(\"\\nDataset shape:\", train_df.shape)\n",
    "print(\"\\nFirst 3 reviews:\")\n",
    "print(train_df.head(3))"
   ]
  },
  {
   "cell_type": "code",
   "execution_count": null,
   "id": "2a271962-cfa7-4c2e-8a10-64b844781dce",
   "metadata": {},
   "outputs": [],
   "source": [
    "# Cell 5: Check sentiment distribution\n",
    "sentiment_counts = train_df['label'].value_counts()\n",
    "print(\"\\nSentiment distribution:\")\n",
    "print(sentiment_counts)"
   ]
  },
  {
   "cell_type": "code",
   "execution_count": null,
   "id": "a79c11eb-f1bc-4361-9724-9120d1d8b45d",
   "metadata": {},
   "outputs": [],
   "source": [
    "# Plot distribution\n",
    "plt.figure(figsize=(6, 4))\n",
    "sentiment_counts.plot(kind='bar', color=['red', 'green'])\n",
    "plt.title('Sentiment Distribution (0=Negative, 1=Positive)')\n",
    "plt.xlabel('Sentiment')\n",
    "plt.ylabel('Count')\n",
    "plt.xticks(rotation=0)\n",
    "plt.tight_layout()\n",
    "plt.show()"
   ]
  },
  {
   "cell_type": "code",
   "execution_count": null,
   "id": "ddc1e6e5-ccfe-4e0b-9a05-9d3751f6fed2",
   "metadata": {},
   "outputs": [],
   "source": [
    "# Cell 6: Save a small sample for testing\n",
    "sample_df = train_df.sample(n=1000, random_state=42)\n",
    "sample_df.to_csv('../data/imdb_sample.csv', index=False)\n",
    "print(\"\\n✅ Saved 1000 sample reviews to data/imdb_sample.csv\")"
   ]
  }
 ],
 "metadata": {
  "kernelspec": {
   "display_name": "venv",
   "language": "python",
   "name": "python3"
  },
  "language_info": {
   "codemirror_mode": {
    "name": "ipython",
    "version": 3
   },
   "file_extension": ".py",
   "mimetype": "text/x-python",
   "name": "python",
   "nbconvert_exporter": "python",
   "pygments_lexer": "ipython3",
   "version": "3.13.2"
  }
 },
 "nbformat": 4,
 "nbformat_minor": 5
}
